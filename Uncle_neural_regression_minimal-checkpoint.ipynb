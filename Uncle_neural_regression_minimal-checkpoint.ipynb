{
 "cells": [
  {
   "cell_type": "markdown",
   "id": "owned-mirror",
   "metadata": {
    "heading_collapsed": true
   },
   "source": [
    "# Neural Network ML on Uncle fundamental stock datafeed\n"
   ]
  },
  {
   "cell_type": "code",
   "execution_count": 1,
   "id": "official-correction",
   "metadata": {
    "hidden": true
   },
   "outputs": [
    {
     "data": {
      "text/plain": [
       "'\\nCreated on Tue Mar 2 2021\\n@author: Piet Ysabie\\n'"
      ]
     },
     "execution_count": 1,
     "metadata": {},
     "output_type": "execute_result"
    }
   ],
   "source": [
    "#https://github.com/PietYsabie/Neural-Network-ML-on-Uncle-fundamental-stock-datafeed\n",
    "#!/usr/bin/env python3\n",
    "# -*- coding: utf-8 -*-\n",
    "\"\"\"\n",
    "Created on Tue Mar 2 2021\n",
    "@author: Piet Ysabie\n",
    "\"\"\"\n",
    "#_____________________________________________________________________________________\n",
    "# Machine Learning for stock data screening\n",
    "# Using Neural Network\n",
    "# Load stock fundamentals from datafeed on https://www.unclestock.com/\n",
    "#-------------------------------------------------------------------------------------\n"
   ]
  },
  {
   "cell_type": "markdown",
   "id": "complex-roots",
   "metadata": {
    "heading_collapsed": true
   },
   "source": [
    "# Load the data"
   ]
  },
  {
   "cell_type": "code",
   "execution_count": 2,
   "id": "directed-poultry",
   "metadata": {
    "hidden": true
   },
   "outputs": [],
   "source": [
    "import os\n",
    "import numpy as np\n",
    "import pandas as pd"
   ]
  },
  {
   "cell_type": "code",
   "execution_count": 3,
   "id": "classical-receptor",
   "metadata": {
    "hidden": true,
    "scrolled": true
   },
   "outputs": [
    {
     "data": {
      "text/html": [
       "<div>\n",
       "<style scoped>\n",
       "    .dataframe tbody tr th:only-of-type {\n",
       "        vertical-align: middle;\n",
       "    }\n",
       "\n",
       "    .dataframe tbody tr th {\n",
       "        vertical-align: top;\n",
       "    }\n",
       "\n",
       "    .dataframe thead th {\n",
       "        text-align: right;\n",
       "    }\n",
       "</style>\n",
       "<table border=\"1\" class=\"dataframe\">\n",
       "  <thead>\n",
       "    <tr style=\"text-align: right;\">\n",
       "      <th></th>\n",
       "      <th>UniqueID</th>\n",
       "      <th>fundamental_advice</th>\n",
       "      <th>fund_advice_nrscore</th>\n",
       "      <th>uncle_stock_score</th>\n",
       "      <th>growth_score</th>\n",
       "      <th>value_score</th>\n",
       "      <th>greenblatt_score</th>\n",
       "      <th>piotroski_score</th>\n",
       "      <th>levermann_score</th>\n",
       "      <th>predictability_score</th>\n",
       "      <th>price_iv_buffett</th>\n",
       "      <th>iv_price_buf</th>\n",
       "      <th>rev_price</th>\n",
       "      <th>PL12M</th>\n",
       "    </tr>\n",
       "  </thead>\n",
       "  <tbody>\n",
       "    <tr>\n",
       "      <th>0</th>\n",
       "      <td>1</td>\n",
       "      <td>3</td>\n",
       "      <td>3</td>\n",
       "      <td>0.65</td>\n",
       "      <td>0.72</td>\n",
       "      <td>0.56</td>\n",
       "      <td>0.50</td>\n",
       "      <td>7.45</td>\n",
       "      <td>4.68</td>\n",
       "      <td>0.34</td>\n",
       "      <td>9.16</td>\n",
       "      <td>9.16</td>\n",
       "      <td>0.2602</td>\n",
       "      <td>-0.2018</td>\n",
       "    </tr>\n",
       "    <tr>\n",
       "      <th>1</th>\n",
       "      <td>2</td>\n",
       "      <td>5</td>\n",
       "      <td>5</td>\n",
       "      <td>0.78</td>\n",
       "      <td>0.68</td>\n",
       "      <td>0.65</td>\n",
       "      <td>0.30</td>\n",
       "      <td>7.67</td>\n",
       "      <td>7.75</td>\n",
       "      <td>0.35</td>\n",
       "      <td>NaN</td>\n",
       "      <td>NaN</td>\n",
       "      <td>1.5400</td>\n",
       "      <td>0.2757</td>\n",
       "    </tr>\n",
       "    <tr>\n",
       "      <th>2</th>\n",
       "      <td>3</td>\n",
       "      <td>4</td>\n",
       "      <td>4</td>\n",
       "      <td>0.69</td>\n",
       "      <td>0.56</td>\n",
       "      <td>0.60</td>\n",
       "      <td>0.54</td>\n",
       "      <td>8.44</td>\n",
       "      <td>-3.51</td>\n",
       "      <td>0.27</td>\n",
       "      <td>2.70</td>\n",
       "      <td>2.70</td>\n",
       "      <td>7.2700</td>\n",
       "      <td>-0.1526</td>\n",
       "    </tr>\n",
       "    <tr>\n",
       "      <th>3</th>\n",
       "      <td>4</td>\n",
       "      <td>3</td>\n",
       "      <td>3</td>\n",
       "      <td>0.66</td>\n",
       "      <td>0.68</td>\n",
       "      <td>0.53</td>\n",
       "      <td>0.21</td>\n",
       "      <td>7.61</td>\n",
       "      <td>4.63</td>\n",
       "      <td>0.41</td>\n",
       "      <td>1.10</td>\n",
       "      <td>1.10</td>\n",
       "      <td>0.1517</td>\n",
       "      <td>0.3262</td>\n",
       "    </tr>\n",
       "    <tr>\n",
       "      <th>4</th>\n",
       "      <td>5</td>\n",
       "      <td>4</td>\n",
       "      <td>4</td>\n",
       "      <td>0.74</td>\n",
       "      <td>0.57</td>\n",
       "      <td>0.64</td>\n",
       "      <td>1.00</td>\n",
       "      <td>9.44</td>\n",
       "      <td>2.52</td>\n",
       "      <td>0.42</td>\n",
       "      <td>0.87</td>\n",
       "      <td>0.87</td>\n",
       "      <td>2.5400</td>\n",
       "      <td>0.6686</td>\n",
       "    </tr>\n",
       "  </tbody>\n",
       "</table>\n",
       "</div>"
      ],
      "text/plain": [
       "   UniqueID  fundamental_advice  fund_advice_nrscore  uncle_stock_score  \\\n",
       "0         1                   3                    3               0.65   \n",
       "1         2                   5                    5               0.78   \n",
       "2         3                   4                    4               0.69   \n",
       "3         4                   3                    3               0.66   \n",
       "4         5                   4                    4               0.74   \n",
       "\n",
       "   growth_score  value_score  greenblatt_score  piotroski_score  \\\n",
       "0          0.72         0.56              0.50             7.45   \n",
       "1          0.68         0.65              0.30             7.67   \n",
       "2          0.56         0.60              0.54             8.44   \n",
       "3          0.68         0.53              0.21             7.61   \n",
       "4          0.57         0.64              1.00             9.44   \n",
       "\n",
       "   levermann_score  predictability_score  price_iv_buffett  iv_price_buf  \\\n",
       "0             4.68                  0.34              9.16          9.16   \n",
       "1             7.75                  0.35               NaN           NaN   \n",
       "2            -3.51                  0.27              2.70          2.70   \n",
       "3             4.63                  0.41              1.10          1.10   \n",
       "4             2.52                  0.42              0.87          0.87   \n",
       "\n",
       "   rev_price   PL12M  \n",
       "0     0.2602 -0.2018  \n",
       "1     1.5400  0.2757  \n",
       "2     7.2700 -0.1526  \n",
       "3     0.1517  0.3262  \n",
       "4     2.5400  0.6686  "
      ]
     },
     "execution_count": 3,
     "metadata": {},
     "output_type": "execute_result"
    }
   ],
   "source": [
    "# read the local csv file with pandas\n",
    "\n",
    "UNCLE_PATH = os.path.join(\"datasets\", \"uncle\")\n",
    "def load_uncledata_pd_data(uncledata_pd_path=UNCLE_PATH):\n",
    "    csv_path = os.path.join(uncledata_pd_path, \"Stock_fundamentals.csv\")\n",
    "    return pd.read_csv(csv_path,sep=';' , decimal=\",\")\n",
    "\n",
    "uncledata_pd = load_uncledata_pd_data()\n",
    "\n",
    "# this is how the data looks\n",
    "# it is a table (Pandas Dataset) containing fundamental indicators about stocks\n",
    "# each row is the data of one stock at one moment in time\n",
    "# pandas head returns the first n (default 5) rows for a quick sneak preview\n",
    "uncledata_pd.head()"
   ]
  },
  {
   "cell_type": "code",
   "execution_count": 4,
   "id": "commercial-minnesota",
   "metadata": {
    "hidden": true
   },
   "outputs": [
    {
     "data": {
      "text/plain": [
       "PL12M                   1.000000\n",
       "fundamental_advice      0.176301\n",
       "levermann_score         0.174869\n",
       "greenblatt_score        0.128210\n",
       "fund_advice_nrscore     0.040571\n",
       "piotroski_score         0.037524\n",
       "growth_score            0.010581\n",
       "uncle_stock_score       0.008042\n",
       "value_score            -0.007096\n",
       "rev_price              -0.016576\n",
       "price_iv_buffett       -0.026995\n",
       "iv_price_buf           -0.026995\n",
       "predictability_score   -0.081559\n",
       "UniqueID               -0.166781\n",
       "Name: PL12M, dtype: float64"
      ]
     },
     "execution_count": 4,
     "metadata": {},
     "output_type": "execute_result"
    }
   ],
   "source": [
    "# let's look at correlations of each feature with the stock gains after 1 year\n",
    "corr_matrix = uncledata_pd.corr()\n",
    "corr_matrix[\"PL12M\"].sort_values(ascending=False)"
   ]
  },
  {
   "cell_type": "markdown",
   "id": "intellectual-conference",
   "metadata": {
    "heading_collapsed": true
   },
   "source": [
    "# Clean and prepare the data"
   ]
  },
  {
   "cell_type": "code",
   "execution_count": 5,
   "id": "hazardous-heritage",
   "metadata": {
    "hidden": true
   },
   "outputs": [
    {
     "name": "stdout",
     "output_type": "stream",
     "text": [
      "[2.2050000e+02 4.0000000e+00 4.0000000e+00 7.3000000e-01 6.4000000e-01\n",
      " 5.7000000e-01 5.2000000e-01 7.5400000e+00 3.6700000e+00 6.3000000e-01\n",
      " 1.3700000e+00 1.3700000e+00 8.7330000e-01 9.0879347e-02]\n"
     ]
    },
    {
     "data": {
      "text/html": [
       "<div>\n",
       "<style scoped>\n",
       "    .dataframe tbody tr th:only-of-type {\n",
       "        vertical-align: middle;\n",
       "    }\n",
       "\n",
       "    .dataframe tbody tr th {\n",
       "        vertical-align: top;\n",
       "    }\n",
       "\n",
       "    .dataframe thead th {\n",
       "        text-align: right;\n",
       "    }\n",
       "</style>\n",
       "<table border=\"1\" class=\"dataframe\">\n",
       "  <thead>\n",
       "    <tr style=\"text-align: right;\">\n",
       "      <th></th>\n",
       "      <th>UniqueID</th>\n",
       "      <th>fundamental_advice</th>\n",
       "      <th>fund_advice_nrscore</th>\n",
       "      <th>uncle_stock_score</th>\n",
       "      <th>growth_score</th>\n",
       "      <th>value_score</th>\n",
       "      <th>greenblatt_score</th>\n",
       "      <th>piotroski_score</th>\n",
       "      <th>levermann_score</th>\n",
       "      <th>predictability_score</th>\n",
       "      <th>price_iv_buffett</th>\n",
       "      <th>iv_price_buf</th>\n",
       "      <th>rev_price</th>\n",
       "      <th>PL12M</th>\n",
       "    </tr>\n",
       "  </thead>\n",
       "  <tbody>\n",
       "    <tr>\n",
       "      <th>0</th>\n",
       "      <td>1.0</td>\n",
       "      <td>3.0</td>\n",
       "      <td>3.0</td>\n",
       "      <td>0.65</td>\n",
       "      <td>0.72</td>\n",
       "      <td>0.56</td>\n",
       "      <td>0.50</td>\n",
       "      <td>7.45</td>\n",
       "      <td>4.68</td>\n",
       "      <td>0.34</td>\n",
       "      <td>9.16</td>\n",
       "      <td>9.16</td>\n",
       "      <td>0.2602</td>\n",
       "      <td>-0.2018</td>\n",
       "    </tr>\n",
       "    <tr>\n",
       "      <th>1</th>\n",
       "      <td>2.0</td>\n",
       "      <td>5.0</td>\n",
       "      <td>5.0</td>\n",
       "      <td>0.78</td>\n",
       "      <td>0.68</td>\n",
       "      <td>0.65</td>\n",
       "      <td>0.30</td>\n",
       "      <td>7.67</td>\n",
       "      <td>7.75</td>\n",
       "      <td>0.35</td>\n",
       "      <td>1.37</td>\n",
       "      <td>1.37</td>\n",
       "      <td>1.5400</td>\n",
       "      <td>0.2757</td>\n",
       "    </tr>\n",
       "    <tr>\n",
       "      <th>2</th>\n",
       "      <td>3.0</td>\n",
       "      <td>4.0</td>\n",
       "      <td>4.0</td>\n",
       "      <td>0.69</td>\n",
       "      <td>0.56</td>\n",
       "      <td>0.60</td>\n",
       "      <td>0.54</td>\n",
       "      <td>8.44</td>\n",
       "      <td>-3.51</td>\n",
       "      <td>0.27</td>\n",
       "      <td>2.70</td>\n",
       "      <td>2.70</td>\n",
       "      <td>7.2700</td>\n",
       "      <td>-0.1526</td>\n",
       "    </tr>\n",
       "    <tr>\n",
       "      <th>3</th>\n",
       "      <td>4.0</td>\n",
       "      <td>3.0</td>\n",
       "      <td>3.0</td>\n",
       "      <td>0.66</td>\n",
       "      <td>0.68</td>\n",
       "      <td>0.53</td>\n",
       "      <td>0.21</td>\n",
       "      <td>7.61</td>\n",
       "      <td>4.63</td>\n",
       "      <td>0.41</td>\n",
       "      <td>1.10</td>\n",
       "      <td>1.10</td>\n",
       "      <td>0.1517</td>\n",
       "      <td>0.3262</td>\n",
       "    </tr>\n",
       "    <tr>\n",
       "      <th>4</th>\n",
       "      <td>5.0</td>\n",
       "      <td>4.0</td>\n",
       "      <td>4.0</td>\n",
       "      <td>0.74</td>\n",
       "      <td>0.57</td>\n",
       "      <td>0.64</td>\n",
       "      <td>1.00</td>\n",
       "      <td>9.44</td>\n",
       "      <td>2.52</td>\n",
       "      <td>0.42</td>\n",
       "      <td>0.87</td>\n",
       "      <td>0.87</td>\n",
       "      <td>2.5400</td>\n",
       "      <td>0.6686</td>\n",
       "    </tr>\n",
       "  </tbody>\n",
       "</table>\n",
       "</div>"
      ],
      "text/plain": [
       "   UniqueID  fundamental_advice  fund_advice_nrscore  uncle_stock_score  \\\n",
       "0       1.0                 3.0                  3.0               0.65   \n",
       "1       2.0                 5.0                  5.0               0.78   \n",
       "2       3.0                 4.0                  4.0               0.69   \n",
       "3       4.0                 3.0                  3.0               0.66   \n",
       "4       5.0                 4.0                  4.0               0.74   \n",
       "\n",
       "   growth_score  value_score  greenblatt_score  piotroski_score  \\\n",
       "0          0.72         0.56              0.50             7.45   \n",
       "1          0.68         0.65              0.30             7.67   \n",
       "2          0.56         0.60              0.54             8.44   \n",
       "3          0.68         0.53              0.21             7.61   \n",
       "4          0.57         0.64              1.00             9.44   \n",
       "\n",
       "   levermann_score  predictability_score  price_iv_buffett  iv_price_buf  \\\n",
       "0             4.68                  0.34              9.16          9.16   \n",
       "1             7.75                  0.35              1.37          1.37   \n",
       "2            -3.51                  0.27              2.70          2.70   \n",
       "3             4.63                  0.41              1.10          1.10   \n",
       "4             2.52                  0.42              0.87          0.87   \n",
       "\n",
       "   rev_price   PL12M  \n",
       "0     0.2602 -0.2018  \n",
       "1     1.5400  0.2757  \n",
       "2     7.2700 -0.1526  \n",
       "3     0.1517  0.3262  \n",
       "4     2.5400  0.6686  "
      ]
     },
     "execution_count": 5,
     "metadata": {},
     "output_type": "execute_result"
    }
   ],
   "source": [
    "# Data cleaning - fill empty fields (entire dataframe at once) - using scikitlearn imputer\n",
    "from sklearn.impute import SimpleImputer\n",
    "imputer = SimpleImputer(strategy=\"median\")\n",
    "imputer.fit(uncledata_pd)\n",
    "# show the median for each feature\n",
    "print(imputer.statistics_)\n",
    "\n",
    "# Attention, the converted Dataframe returns a numpy array format; convert it back to a pandas data array\n",
    "X = imputer.transform(uncledata_pd)\n",
    "uncledata_pd_filled = pd.DataFrame(X, columns=uncledata_pd.columns)\n",
    "uncledata_pd = uncledata_pd_filled\n",
    "uncledata_pd.head()"
   ]
  },
  {
   "cell_type": "code",
   "execution_count": 6,
   "id": "coordinated-usage",
   "metadata": {
    "hidden": true
   },
   "outputs": [],
   "source": [
    "# splits the total set of data into two 'random' sets for training and testing\n",
    "# resulting 2 sets are still pandas dataframes!\n",
    "def split_train_test(data, test_ratio):\n",
    "    shuffled_indices = np.random.permutation(len(data))\n",
    "    test_set_size = int(len(data) * test_ratio)\n",
    "    test_indices = shuffled_indices[:test_set_size]\n",
    "    train_indices = shuffled_indices[test_set_size:]\n",
    "    return data.iloc[train_indices], data.iloc[test_indices]\n",
    "train_set, test_set = split_train_test(uncledata_pd, 0.2)"
   ]
  },
  {
   "cell_type": "code",
   "execution_count": 7,
   "id": "received-bullet",
   "metadata": {
    "hidden": true
   },
   "outputs": [
    {
     "data": {
      "text/html": [
       "<div>\n",
       "<style scoped>\n",
       "    .dataframe tbody tr th:only-of-type {\n",
       "        vertical-align: middle;\n",
       "    }\n",
       "\n",
       "    .dataframe tbody tr th {\n",
       "        vertical-align: top;\n",
       "    }\n",
       "\n",
       "    .dataframe thead th {\n",
       "        text-align: right;\n",
       "    }\n",
       "</style>\n",
       "<table border=\"1\" class=\"dataframe\">\n",
       "  <thead>\n",
       "    <tr style=\"text-align: right;\">\n",
       "      <th></th>\n",
       "      <th>UniqueID</th>\n",
       "      <th>fundamental_advice</th>\n",
       "      <th>fund_advice_nrscore</th>\n",
       "      <th>uncle_stock_score</th>\n",
       "      <th>growth_score</th>\n",
       "      <th>value_score</th>\n",
       "      <th>greenblatt_score</th>\n",
       "      <th>piotroski_score</th>\n",
       "      <th>levermann_score</th>\n",
       "      <th>predictability_score</th>\n",
       "      <th>price_iv_buffett</th>\n",
       "      <th>iv_price_buf</th>\n",
       "      <th>rev_price</th>\n",
       "      <th>PL12M</th>\n",
       "    </tr>\n",
       "  </thead>\n",
       "  <tbody>\n",
       "    <tr>\n",
       "      <th>81</th>\n",
       "      <td>82.0</td>\n",
       "      <td>5.0</td>\n",
       "      <td>5.0</td>\n",
       "      <td>0.84</td>\n",
       "      <td>0.68</td>\n",
       "      <td>0.84</td>\n",
       "      <td>1.15</td>\n",
       "      <td>4.51</td>\n",
       "      <td>3.66</td>\n",
       "      <td>0.75</td>\n",
       "      <td>0.680</td>\n",
       "      <td>0.680</td>\n",
       "      <td>4.1400</td>\n",
       "      <td>0.351700</td>\n",
       "    </tr>\n",
       "    <tr>\n",
       "      <th>105</th>\n",
       "      <td>106.0</td>\n",
       "      <td>5.0</td>\n",
       "      <td>5.0</td>\n",
       "      <td>0.80</td>\n",
       "      <td>0.70</td>\n",
       "      <td>0.57</td>\n",
       "      <td>0.40</td>\n",
       "      <td>7.40</td>\n",
       "      <td>4.52</td>\n",
       "      <td>0.61</td>\n",
       "      <td>1.200</td>\n",
       "      <td>1.200</td>\n",
       "      <td>1.2100</td>\n",
       "      <td>0.644800</td>\n",
       "    </tr>\n",
       "    <tr>\n",
       "      <th>282</th>\n",
       "      <td>377.0</td>\n",
       "      <td>3.0</td>\n",
       "      <td>5.0</td>\n",
       "      <td>0.83</td>\n",
       "      <td>0.63</td>\n",
       "      <td>0.77</td>\n",
       "      <td>1.09</td>\n",
       "      <td>4.50</td>\n",
       "      <td>1.59</td>\n",
       "      <td>0.63</td>\n",
       "      <td>0.130</td>\n",
       "      <td>0.130</td>\n",
       "      <td>0.8945</td>\n",
       "      <td>-0.113004</td>\n",
       "    </tr>\n",
       "    <tr>\n",
       "      <th>36</th>\n",
       "      <td>37.0</td>\n",
       "      <td>5.0</td>\n",
       "      <td>5.0</td>\n",
       "      <td>0.83</td>\n",
       "      <td>0.74</td>\n",
       "      <td>0.70</td>\n",
       "      <td>0.67</td>\n",
       "      <td>6.43</td>\n",
       "      <td>4.56</td>\n",
       "      <td>0.69</td>\n",
       "      <td>0.027</td>\n",
       "      <td>0.027</td>\n",
       "      <td>1.0800</td>\n",
       "      <td>-0.249400</td>\n",
       "    </tr>\n",
       "    <tr>\n",
       "      <th>199</th>\n",
       "      <td>244.0</td>\n",
       "      <td>2.0</td>\n",
       "      <td>2.0</td>\n",
       "      <td>0.59</td>\n",
       "      <td>0.40</td>\n",
       "      <td>0.46</td>\n",
       "      <td>0.45</td>\n",
       "      <td>6.44</td>\n",
       "      <td>3.50</td>\n",
       "      <td>0.73</td>\n",
       "      <td>10.430</td>\n",
       "      <td>10.430</td>\n",
       "      <td>0.3425</td>\n",
       "      <td>-0.048900</td>\n",
       "    </tr>\n",
       "  </tbody>\n",
       "</table>\n",
       "</div>"
      ],
      "text/plain": [
       "     UniqueID  fundamental_advice  fund_advice_nrscore  uncle_stock_score  \\\n",
       "81       82.0                 5.0                  5.0               0.84   \n",
       "105     106.0                 5.0                  5.0               0.80   \n",
       "282     377.0                 3.0                  5.0               0.83   \n",
       "36       37.0                 5.0                  5.0               0.83   \n",
       "199     244.0                 2.0                  2.0               0.59   \n",
       "\n",
       "     growth_score  value_score  greenblatt_score  piotroski_score  \\\n",
       "81           0.68         0.84              1.15             4.51   \n",
       "105          0.70         0.57              0.40             7.40   \n",
       "282          0.63         0.77              1.09             4.50   \n",
       "36           0.74         0.70              0.67             6.43   \n",
       "199          0.40         0.46              0.45             6.44   \n",
       "\n",
       "     levermann_score  predictability_score  price_iv_buffett  iv_price_buf  \\\n",
       "81              3.66                  0.75             0.680         0.680   \n",
       "105             4.52                  0.61             1.200         1.200   \n",
       "282             1.59                  0.63             0.130         0.130   \n",
       "36              4.56                  0.69             0.027         0.027   \n",
       "199             3.50                  0.73            10.430        10.430   \n",
       "\n",
       "     rev_price     PL12M  \n",
       "81      4.1400  0.351700  \n",
       "105     1.2100  0.644800  \n",
       "282     0.8945 -0.113004  \n",
       "36      1.0800 -0.249400  \n",
       "199     0.3425 -0.048900  "
      ]
     },
     "execution_count": 7,
     "metadata": {},
     "output_type": "execute_result"
    }
   ],
   "source": [
    "train_set.head(5)"
   ]
  },
  {
   "cell_type": "code",
   "execution_count": 8,
   "id": "cardiovascular-bonus",
   "metadata": {
    "hidden": true
   },
   "outputs": [
    {
     "data": {
      "text/html": [
       "<div>\n",
       "<style scoped>\n",
       "    .dataframe tbody tr th:only-of-type {\n",
       "        vertical-align: middle;\n",
       "    }\n",
       "\n",
       "    .dataframe tbody tr th {\n",
       "        vertical-align: top;\n",
       "    }\n",
       "\n",
       "    .dataframe thead th {\n",
       "        text-align: right;\n",
       "    }\n",
       "</style>\n",
       "<table border=\"1\" class=\"dataframe\">\n",
       "  <thead>\n",
       "    <tr style=\"text-align: right;\">\n",
       "      <th></th>\n",
       "      <th>UniqueID</th>\n",
       "      <th>fundamental_advice</th>\n",
       "      <th>fund_advice_nrscore</th>\n",
       "      <th>uncle_stock_score</th>\n",
       "      <th>growth_score</th>\n",
       "      <th>value_score</th>\n",
       "      <th>greenblatt_score</th>\n",
       "      <th>piotroski_score</th>\n",
       "      <th>levermann_score</th>\n",
       "      <th>predictability_score</th>\n",
       "      <th>price_iv_buffett</th>\n",
       "      <th>iv_price_buf</th>\n",
       "      <th>rev_price</th>\n",
       "      <th>PL12M</th>\n",
       "    </tr>\n",
       "  </thead>\n",
       "  <tbody>\n",
       "    <tr>\n",
       "      <th>30</th>\n",
       "      <td>31.0</td>\n",
       "      <td>4.0</td>\n",
       "      <td>4.0</td>\n",
       "      <td>0.70</td>\n",
       "      <td>0.65</td>\n",
       "      <td>0.63</td>\n",
       "      <td>0.40</td>\n",
       "      <td>3.42</td>\n",
       "      <td>6.57</td>\n",
       "      <td>0.39</td>\n",
       "      <td>0.260</td>\n",
       "      <td>0.260</td>\n",
       "      <td>0.6966</td>\n",
       "      <td>0.284300</td>\n",
       "    </tr>\n",
       "    <tr>\n",
       "      <th>162</th>\n",
       "      <td>207.0</td>\n",
       "      <td>5.0</td>\n",
       "      <td>5.0</td>\n",
       "      <td>0.81</td>\n",
       "      <td>0.71</td>\n",
       "      <td>0.65</td>\n",
       "      <td>0.74</td>\n",
       "      <td>6.48</td>\n",
       "      <td>8.72</td>\n",
       "      <td>0.66</td>\n",
       "      <td>0.030</td>\n",
       "      <td>0.030</td>\n",
       "      <td>1.0500</td>\n",
       "      <td>1.032000</td>\n",
       "    </tr>\n",
       "    <tr>\n",
       "      <th>104</th>\n",
       "      <td>105.0</td>\n",
       "      <td>5.0</td>\n",
       "      <td>5.0</td>\n",
       "      <td>0.76</td>\n",
       "      <td>0.70</td>\n",
       "      <td>0.66</td>\n",
       "      <td>0.94</td>\n",
       "      <td>7.57</td>\n",
       "      <td>8.89</td>\n",
       "      <td>0.27</td>\n",
       "      <td>0.960</td>\n",
       "      <td>0.960</td>\n",
       "      <td>0.3475</td>\n",
       "      <td>-0.129500</td>\n",
       "    </tr>\n",
       "    <tr>\n",
       "      <th>163</th>\n",
       "      <td>208.0</td>\n",
       "      <td>4.0</td>\n",
       "      <td>4.0</td>\n",
       "      <td>0.83</td>\n",
       "      <td>0.67</td>\n",
       "      <td>0.75</td>\n",
       "      <td>1.10</td>\n",
       "      <td>3.47</td>\n",
       "      <td>-1.58</td>\n",
       "      <td>0.29</td>\n",
       "      <td>0.081</td>\n",
       "      <td>0.081</td>\n",
       "      <td>1.0500</td>\n",
       "      <td>0.020400</td>\n",
       "    </tr>\n",
       "    <tr>\n",
       "      <th>312</th>\n",
       "      <td>407.0</td>\n",
       "      <td>1.0</td>\n",
       "      <td>4.0</td>\n",
       "      <td>0.66</td>\n",
       "      <td>0.55</td>\n",
       "      <td>0.57</td>\n",
       "      <td>-0.05</td>\n",
       "      <td>9.55</td>\n",
       "      <td>4.68</td>\n",
       "      <td>0.43</td>\n",
       "      <td>1.920</td>\n",
       "      <td>1.920</td>\n",
       "      <td>6.2800</td>\n",
       "      <td>-0.442539</td>\n",
       "    </tr>\n",
       "    <tr>\n",
       "      <th>...</th>\n",
       "      <td>...</td>\n",
       "      <td>...</td>\n",
       "      <td>...</td>\n",
       "      <td>...</td>\n",
       "      <td>...</td>\n",
       "      <td>...</td>\n",
       "      <td>...</td>\n",
       "      <td>...</td>\n",
       "      <td>...</td>\n",
       "      <td>...</td>\n",
       "      <td>...</td>\n",
       "      <td>...</td>\n",
       "      <td>...</td>\n",
       "      <td>...</td>\n",
       "    </tr>\n",
       "    <tr>\n",
       "      <th>317</th>\n",
       "      <td>412.0</td>\n",
       "      <td>3.0</td>\n",
       "      <td>5.0</td>\n",
       "      <td>0.80</td>\n",
       "      <td>0.71</td>\n",
       "      <td>0.67</td>\n",
       "      <td>0.60</td>\n",
       "      <td>5.47</td>\n",
       "      <td>7.64</td>\n",
       "      <td>0.62</td>\n",
       "      <td>0.310</td>\n",
       "      <td>0.310</td>\n",
       "      <td>0.2176</td>\n",
       "      <td>-0.339305</td>\n",
       "    </tr>\n",
       "    <tr>\n",
       "      <th>149</th>\n",
       "      <td>194.0</td>\n",
       "      <td>4.0</td>\n",
       "      <td>4.0</td>\n",
       "      <td>0.66</td>\n",
       "      <td>0.59</td>\n",
       "      <td>0.50</td>\n",
       "      <td>0.28</td>\n",
       "      <td>9.49</td>\n",
       "      <td>2.59</td>\n",
       "      <td>0.73</td>\n",
       "      <td>3.700</td>\n",
       "      <td>3.700</td>\n",
       "      <td>1.0600</td>\n",
       "      <td>0.145700</td>\n",
       "    </tr>\n",
       "    <tr>\n",
       "      <th>67</th>\n",
       "      <td>68.0</td>\n",
       "      <td>5.0</td>\n",
       "      <td>5.0</td>\n",
       "      <td>0.79</td>\n",
       "      <td>0.69</td>\n",
       "      <td>0.67</td>\n",
       "      <td>0.56</td>\n",
       "      <td>9.51</td>\n",
       "      <td>2.64</td>\n",
       "      <td>0.63</td>\n",
       "      <td>0.019</td>\n",
       "      <td>0.019</td>\n",
       "      <td>0.4726</td>\n",
       "      <td>-0.159800</td>\n",
       "    </tr>\n",
       "    <tr>\n",
       "      <th>305</th>\n",
       "      <td>400.0</td>\n",
       "      <td>-1.0</td>\n",
       "      <td>2.0</td>\n",
       "      <td>0.60</td>\n",
       "      <td>0.52</td>\n",
       "      <td>0.45</td>\n",
       "      <td>0.16</td>\n",
       "      <td>9.52</td>\n",
       "      <td>-3.63</td>\n",
       "      <td>0.52</td>\n",
       "      <td>34.730</td>\n",
       "      <td>34.730</td>\n",
       "      <td>1.3100</td>\n",
       "      <td>0.126061</td>\n",
       "    </tr>\n",
       "    <tr>\n",
       "      <th>52</th>\n",
       "      <td>53.0</td>\n",
       "      <td>5.0</td>\n",
       "      <td>5.0</td>\n",
       "      <td>0.77</td>\n",
       "      <td>0.75</td>\n",
       "      <td>0.59</td>\n",
       "      <td>0.59</td>\n",
       "      <td>7.44</td>\n",
       "      <td>3.57</td>\n",
       "      <td>0.39</td>\n",
       "      <td>0.290</td>\n",
       "      <td>0.290</td>\n",
       "      <td>1.1200</td>\n",
       "      <td>0.285400</td>\n",
       "    </tr>\n",
       "  </tbody>\n",
       "</table>\n",
       "<p>70 rows × 14 columns</p>\n",
       "</div>"
      ],
      "text/plain": [
       "     UniqueID  fundamental_advice  fund_advice_nrscore  uncle_stock_score  \\\n",
       "30       31.0                 4.0                  4.0               0.70   \n",
       "162     207.0                 5.0                  5.0               0.81   \n",
       "104     105.0                 5.0                  5.0               0.76   \n",
       "163     208.0                 4.0                  4.0               0.83   \n",
       "312     407.0                 1.0                  4.0               0.66   \n",
       "..        ...                 ...                  ...                ...   \n",
       "317     412.0                 3.0                  5.0               0.80   \n",
       "149     194.0                 4.0                  4.0               0.66   \n",
       "67       68.0                 5.0                  5.0               0.79   \n",
       "305     400.0                -1.0                  2.0               0.60   \n",
       "52       53.0                 5.0                  5.0               0.77   \n",
       "\n",
       "     growth_score  value_score  greenblatt_score  piotroski_score  \\\n",
       "30           0.65         0.63              0.40             3.42   \n",
       "162          0.71         0.65              0.74             6.48   \n",
       "104          0.70         0.66              0.94             7.57   \n",
       "163          0.67         0.75              1.10             3.47   \n",
       "312          0.55         0.57             -0.05             9.55   \n",
       "..            ...          ...               ...              ...   \n",
       "317          0.71         0.67              0.60             5.47   \n",
       "149          0.59         0.50              0.28             9.49   \n",
       "67           0.69         0.67              0.56             9.51   \n",
       "305          0.52         0.45              0.16             9.52   \n",
       "52           0.75         0.59              0.59             7.44   \n",
       "\n",
       "     levermann_score  predictability_score  price_iv_buffett  iv_price_buf  \\\n",
       "30              6.57                  0.39             0.260         0.260   \n",
       "162             8.72                  0.66             0.030         0.030   \n",
       "104             8.89                  0.27             0.960         0.960   \n",
       "163            -1.58                  0.29             0.081         0.081   \n",
       "312             4.68                  0.43             1.920         1.920   \n",
       "..               ...                   ...               ...           ...   \n",
       "317             7.64                  0.62             0.310         0.310   \n",
       "149             2.59                  0.73             3.700         3.700   \n",
       "67              2.64                  0.63             0.019         0.019   \n",
       "305            -3.63                  0.52            34.730        34.730   \n",
       "52              3.57                  0.39             0.290         0.290   \n",
       "\n",
       "     rev_price     PL12M  \n",
       "30      0.6966  0.284300  \n",
       "162     1.0500  1.032000  \n",
       "104     0.3475 -0.129500  \n",
       "163     1.0500  0.020400  \n",
       "312     6.2800 -0.442539  \n",
       "..         ...       ...  \n",
       "317     0.2176 -0.339305  \n",
       "149     1.0600  0.145700  \n",
       "67      0.4726 -0.159800  \n",
       "305     1.3100  0.126061  \n",
       "52      1.1200  0.285400  \n",
       "\n",
       "[70 rows x 14 columns]"
      ]
     },
     "execution_count": 8,
     "metadata": {},
     "output_type": "execute_result"
    }
   ],
   "source": [
    "test_set"
   ]
  },
  {
   "cell_type": "code",
   "execution_count": 9,
   "id": "musical-macintosh",
   "metadata": {
    "hidden": true
   },
   "outputs": [],
   "source": [
    "# separate labels (the y-values) for training set (but keep the values in a separate serie)\n",
    "uncledata_train_pd = train_set.drop(\"PL12M\", axis=1) \n",
    "uncledata_train_serie_labels = train_set[\"PL12M\"].copy()"
   ]
  },
  {
   "cell_type": "code",
   "execution_count": 10,
   "id": "native-integration",
   "metadata": {
    "hidden": true
   },
   "outputs": [],
   "source": [
    "# define test data\n",
    "\n",
    "uncledata_test_pd = test_set.drop(\"PL12M\", axis=1) \n",
    "uncledata_test_serie_labels = test_set[\"PL12M\"].copy()"
   ]
  },
  {
   "cell_type": "code",
   "execution_count": 11,
   "id": "hollywood-startup",
   "metadata": {
    "hidden": true
   },
   "outputs": [],
   "source": [
    "# Normalize the features; note that the returns are not normalized, only the features\n",
    "# added a trick to avoid NaN erros: add a small deviation increase to the samples\n",
    "\n",
    "import numpy as np\n",
    "mean = np.mean(uncledata_train_pd, axis=0)\n",
    "std = np.std(uncledata_train_pd, axis=0)+0.000001\n",
    "\n",
    "uncledata_train_pd = (uncledata_train_pd - mean) / std\n",
    "uncledata_test_pd = (uncledata_test_pd - mean) /std"
   ]
  },
  {
   "cell_type": "markdown",
   "id": "fourth-london",
   "metadata": {
    "heading_collapsed": true
   },
   "source": [
    "# Select and train the neural network"
   ]
  },
  {
   "cell_type": "code",
   "execution_count": 12,
   "id": "accredited-banks",
   "metadata": {
    "hidden": true
   },
   "outputs": [],
   "source": [
    "import tensorflow as tf\n",
    "from tensorflow import keras\n",
    "\n",
    "model = keras.models.Sequential([\n",
    "keras.layers.Dense(30, activation=\"relu\", input_shape=uncledata_test_pd.shape[1:]),\n",
    "keras.layers.Dense(1)\n",
    "])"
   ]
  },
  {
   "cell_type": "code",
   "execution_count": 13,
   "id": "preliminary-clause",
   "metadata": {
    "hidden": true,
    "scrolled": true
   },
   "outputs": [
    {
     "name": "stdout",
     "output_type": "stream",
     "text": [
      "0.01\n"
     ]
    }
   ],
   "source": [
    "# Build and compile your model\n",
    "# this is the model using optimizer sgd - standard but disadvantage is fixed learning Rate\n",
    "import keras.backend as K\n",
    "model.compile(loss=\"mean_squared_error\", optimizer=\"sgd\")\n",
    "print(K.eval(model.optimizer.lr))"
   ]
  },
  {
   "cell_type": "code",
   "execution_count": 14,
   "id": "economic-treasury",
   "metadata": {
    "hidden": true,
    "scrolled": true
   },
   "outputs": [
    {
     "name": "stdout",
     "output_type": "stream",
     "text": [
      "0.001\n"
     ]
    }
   ],
   "source": [
    "# this is the model using optimizer Adam - advantage is parametrisable learning Rate\n",
    "from keras.optimizers import Adam\n",
    "import keras.backend as K\n",
    "model.compile(loss=\"mean_squared_error\", optimizer=Adam(lr=0.001))\n",
    "print(K.eval(model.optimizer.lr))"
   ]
  },
  {
   "cell_type": "code",
   "execution_count": 15,
   "id": "cathedral-sculpture",
   "metadata": {
    "hidden": true
   },
   "outputs": [],
   "source": [
    "# define a log directory for tensorflow dashboard log files\n",
    "import os\n",
    "root_logdir = os.path.join(os.curdir, \"my_logs\")\n",
    "def get_run_logdir():\n",
    "    import time\n",
    "    run_id = time.strftime(\"run_%Y_%m_%d-%H_%M_%S\")\n",
    "    return os.path.join(root_logdir, run_id)\n",
    "run_logdir = get_run_logdir() # e.g., './my_logs/run_2019_01_16-11_28_43'"
   ]
  },
  {
   "cell_type": "code",
   "execution_count": 16,
   "id": "round-tulsa",
   "metadata": {
    "hidden": true
   },
   "outputs": [
    {
     "name": "stdout",
     "output_type": "stream",
     "text": [
      "Epoch 1/50\n",
      "9/9 [==============================] - 1s 109ms/step - loss: 0.4433 - val_loss: 0.4298\n",
      "Epoch 2/50\n",
      "9/9 [==============================] - 0s 5ms/step - loss: 0.3917 - val_loss: 0.3195\n",
      "Epoch 3/50\n",
      "9/9 [==============================] - 0s 6ms/step - loss: 0.3051 - val_loss: 0.2689\n",
      "Epoch 4/50\n",
      "9/9 [==============================] - 0s 4ms/step - loss: 0.2635 - val_loss: 0.2486\n",
      "Epoch 5/50\n",
      "9/9 [==============================] - 0s 5ms/step - loss: 0.3043 - val_loss: 0.2403\n",
      "Epoch 6/50\n",
      "9/9 [==============================] - 0s 5ms/step - loss: 0.2561 - val_loss: 0.2373\n",
      "Epoch 7/50\n",
      "9/9 [==============================] - 0s 5ms/step - loss: 0.2097 - val_loss: 0.2347\n",
      "Epoch 8/50\n",
      "9/9 [==============================] - 0s 5ms/step - loss: 0.2686 - val_loss: 0.2316\n",
      "Epoch 9/50\n",
      "9/9 [==============================] - 0s 5ms/step - loss: 0.2700 - val_loss: 0.2289\n",
      "Epoch 10/50\n",
      "9/9 [==============================] - 0s 4ms/step - loss: 0.2378 - val_loss: 0.2269\n",
      "Epoch 11/50\n",
      "9/9 [==============================] - 0s 5ms/step - loss: 0.2100 - val_loss: 0.2247\n",
      "Epoch 12/50\n",
      "9/9 [==============================] - 0s 5ms/step - loss: 0.1952 - val_loss: 0.2230\n",
      "Epoch 13/50\n",
      "9/9 [==============================] - 0s 5ms/step - loss: 0.2666 - val_loss: 0.2206\n",
      "Epoch 14/50\n",
      "9/9 [==============================] - 0s 5ms/step - loss: 0.2043 - val_loss: 0.2185\n",
      "Epoch 15/50\n",
      "9/9 [==============================] - 0s 5ms/step - loss: 0.1767 - val_loss: 0.2170\n",
      "Epoch 16/50\n",
      "9/9 [==============================] - 0s 5ms/step - loss: 0.1724 - val_loss: 0.2161\n",
      "Epoch 17/50\n",
      "9/9 [==============================] - 0s 5ms/step - loss: 0.1778 - val_loss: 0.2155\n",
      "Epoch 18/50\n",
      "9/9 [==============================] - 0s 5ms/step - loss: 0.1815 - val_loss: 0.2137\n",
      "Epoch 19/50\n",
      "9/9 [==============================] - 0s 5ms/step - loss: 0.1594 - val_loss: 0.2117\n",
      "Epoch 20/50\n",
      "9/9 [==============================] - 0s 5ms/step - loss: 0.1988 - val_loss: 0.2119\n",
      "Epoch 21/50\n",
      "9/9 [==============================] - 0s 5ms/step - loss: 0.1914 - val_loss: 0.2115\n",
      "Epoch 22/50\n",
      "9/9 [==============================] - 0s 5ms/step - loss: 0.1898 - val_loss: 0.2101\n",
      "Epoch 23/50\n",
      "9/9 [==============================] - 0s 5ms/step - loss: 0.2195 - val_loss: 0.2098\n",
      "Epoch 24/50\n",
      "9/9 [==============================] - 0s 5ms/step - loss: 0.2383 - val_loss: 0.2097\n",
      "Epoch 25/50\n",
      "9/9 [==============================] - 0s 5ms/step - loss: 0.1748 - val_loss: 0.2098\n",
      "Epoch 26/50\n",
      "9/9 [==============================] - 0s 5ms/step - loss: 0.1676 - val_loss: 0.2089\n",
      "Epoch 27/50\n",
      "9/9 [==============================] - 0s 4ms/step - loss: 0.2046 - val_loss: 0.2071\n",
      "Epoch 28/50\n",
      "9/9 [==============================] - 0s 5ms/step - loss: 0.1931 - val_loss: 0.2052\n",
      "Epoch 29/50\n",
      "9/9 [==============================] - 0s 5ms/step - loss: 0.1529 - val_loss: 0.2056\n",
      "Epoch 30/50\n",
      "9/9 [==============================] - 0s 5ms/step - loss: 0.2158 - val_loss: 0.2051\n",
      "Epoch 31/50\n",
      "9/9 [==============================] - 0s 5ms/step - loss: 0.2193 - val_loss: 0.2045\n",
      "Epoch 32/50\n",
      "9/9 [==============================] - 0s 5ms/step - loss: 0.1921 - val_loss: 0.2046\n",
      "Epoch 33/50\n",
      "9/9 [==============================] - 0s 5ms/step - loss: 0.1665 - val_loss: 0.2046\n",
      "Epoch 34/50\n",
      "9/9 [==============================] - 0s 4ms/step - loss: 0.1924 - val_loss: 0.2029\n",
      "Epoch 35/50\n",
      "9/9 [==============================] - 0s 5ms/step - loss: 0.1621 - val_loss: 0.2021\n",
      "Epoch 36/50\n",
      "9/9 [==============================] - 0s 5ms/step - loss: 0.1870 - val_loss: 0.2014\n",
      "Epoch 37/50\n",
      "9/9 [==============================] - 0s 5ms/step - loss: 0.1797 - val_loss: 0.2009\n",
      "Epoch 38/50\n",
      "9/9 [==============================] - 0s 5ms/step - loss: 0.1914 - val_loss: 0.2004\n",
      "Epoch 39/50\n",
      "9/9 [==============================] - 0s 5ms/step - loss: 0.1864 - val_loss: 0.2009\n",
      "Epoch 40/50\n",
      "9/9 [==============================] - 0s 5ms/step - loss: 0.1600 - val_loss: 0.2004\n",
      "Epoch 41/50\n",
      "9/9 [==============================] - 0s 5ms/step - loss: 0.1645 - val_loss: 0.1994\n",
      "Epoch 42/50\n",
      "9/9 [==============================] - 0s 5ms/step - loss: 0.1957 - val_loss: 0.1990\n",
      "Epoch 43/50\n",
      "9/9 [==============================] - 0s 6ms/step - loss: 0.1848 - val_loss: 0.1979\n",
      "Epoch 44/50\n",
      "9/9 [==============================] - 0s 5ms/step - loss: 0.1789 - val_loss: 0.1993\n",
      "Epoch 45/50\n",
      "9/9 [==============================] - 0s 5ms/step - loss: 0.1466 - val_loss: 0.1976\n",
      "Epoch 46/50\n",
      "9/9 [==============================] - 0s 4ms/step - loss: 0.1692 - val_loss: 0.1977\n",
      "Epoch 47/50\n",
      "9/9 [==============================] - 0s 5ms/step - loss: 0.1911 - val_loss: 0.1971\n",
      "Epoch 48/50\n",
      "9/9 [==============================] - 0s 5ms/step - loss: 0.1634 - val_loss: 0.1972\n",
      "Epoch 49/50\n",
      "9/9 [==============================] - 0s 5ms/step - loss: 0.1946 - val_loss: 0.1964\n",
      "Epoch 50/50\n",
      "9/9 [==============================] - 0s 4ms/step - loss: 0.1599 - val_loss: 0.1961\n"
     ]
    }
   ],
   "source": [
    "# Train the model\n",
    "tensorboard_cb = keras.callbacks.TensorBoard(run_logdir)\n",
    "history = model.fit(uncledata_train_pd, uncledata_train_serie_labels, epochs=50,\n",
    "                    validation_data=(uncledata_test_pd, uncledata_test_serie_labels),\n",
    "                    callbacks=[tensorboard_cb])\n"
   ]
  },
  {
   "cell_type": "markdown",
   "id": "dried-pontiac",
   "metadata": {
    "heading_collapsed": true
   },
   "source": [
    "# Analyse and evaluate the trained model results"
   ]
  },
  {
   "cell_type": "code",
   "execution_count": 17,
   "id": "lovely-comedy",
   "metadata": {
    "hidden": true
   },
   "outputs": [
    {
     "name": "stdout",
     "output_type": "stream",
     "text": [
      "3/3 [==============================] - 0s 1ms/step - loss: 0.1961\n"
     ]
    }
   ],
   "source": [
    "# evaluate the trained model\n",
    "mse_test = model.evaluate(uncledata_test_pd, uncledata_test_serie_labels)"
   ]
  },
  {
   "cell_type": "code",
   "execution_count": 18,
   "id": "genuine-police",
   "metadata": {
    "hidden": true
   },
   "outputs": [
    {
     "data": {
      "image/png": "[encoded data removed]",
      "text/plain": [
       "<Figure size 576x360 with 1 Axes>"
      ]
     },
     "metadata": {
      "needs_background": "light"
     },
     "output_type": "display_data"
    }
   ],
   "source": [
    "# display the loss evaluation during the epoch's\n",
    "%matplotlib inline\n",
    "import matplotlib.pyplot as plt\n",
    "                               \n",
    "import pandas as pd\n",
    "pd.DataFrame(history.history).plot(figsize=(8, 5))\n",
    "plt.grid(True)\n",
    "plt.gca().set_ylim(0, 1) # set the vertical range to [0-1]\n",
    "plt.show()"
   ]
  },
  {
   "cell_type": "code",
   "execution_count": 19,
   "id": "thermal-saudi",
   "metadata": {
    "hidden": true
   },
   "outputs": [
    {
     "name": "stdout",
     "output_type": "stream",
     "text": [
      "Predictions: [[ 0.43444082]\n",
      " [ 0.33592194]\n",
      " [ 0.6459481 ]\n",
      " [ 0.08258466]\n",
      " [-0.2321145 ]]\n",
      "Labels: [0.2843, 1.032, -0.1295, 0.0204, -0.442538593]\n"
     ]
    }
   ],
   "source": [
    "# we can check the prediction of a few samples in the last (=test) set with lin_reg.predict([some_digit])\n",
    "\n",
    "some_data = uncledata_test_pd.iloc[:5]\n",
    "some_labels = uncledata_test_serie_labels.iloc[:5]\n",
    "\n",
    "print(\"Predictions:\", model.predict(some_data))\n",
    "\n",
    "print(\"Labels:\", list(some_labels))"
   ]
  },
  {
   "cell_type": "markdown",
   "id": "hundred-clause",
   "metadata": {
    "heading_collapsed": true
   },
   "source": [
    "# x-y scatter plot with labels vs predictions"
   ]
  },
  {
   "cell_type": "code",
   "execution_count": 20,
   "id": "legal-brook",
   "metadata": {
    "hidden": true
   },
   "outputs": [
    {
     "data": {
      "image/png": "[encoded data removed]",
      "text/plain": [
       "<Figure size 432x288 with 1 Axes>"
      ]
     },
     "metadata": {
      "needs_background": "light"
     },
     "output_type": "display_data"
    }
   ],
   "source": [
    "%matplotlib inline\n",
    "import matplotlib.pyplot as plt\n",
    "\n",
    "# plot the real returns vs the predictions \n",
    "uncledata_test_np_predictions = model.predict(uncledata_test_pd)\n",
    "plt.scatter(uncledata_test_np_predictions,uncledata_test_serie_labels)\n",
    "\n",
    "# also plot the 'perfect predictor model' straight diagonal line\n",
    "plt.plot([-0.6, 0.6], [-0.6, 0.6], 'k-')\n",
    "plt.ylabel('label = real 1Y return', fontsize=18)\n",
    "plt.xlabel('prediction', fontsize=16)\n",
    "plt.show()\n"
   ]
  },
  {
   "cell_type": "markdown",
   "id": "competitive-journey",
   "metadata": {
    "heading_collapsed": true
   },
   "source": [
    "# Prediction portfolio return vs real portfolio return on test_set"
   ]
  },
  {
   "cell_type": "code",
   "execution_count": 21,
   "id": "organized-intention",
   "metadata": {
    "hidden": true
   },
   "outputs": [],
   "source": [
    "# we put predictions and original data (including real y values) in one dataframe and sort it\n",
    "# note that the labels (real y) are a serie, and the predictions are a np array\n",
    "# convert predictions into a dataframe and add a column title\n",
    "predictions_pd = pd.DataFrame(uncledata_test_np_predictions)\n",
    "predictions_pd.columns =['PL_Predict']"
   ]
  },
  {
   "cell_type": "code",
   "execution_count": 22,
   "id": "raised-nursing",
   "metadata": {
    "hidden": true
   },
   "outputs": [
    {
     "data": {
      "text/html": [
       "<div>\n",
       "<style scoped>\n",
       "    .dataframe tbody tr th:only-of-type {\n",
       "        vertical-align: middle;\n",
       "    }\n",
       "\n",
       "    .dataframe tbody tr th {\n",
       "        vertical-align: top;\n",
       "    }\n",
       "\n",
       "    .dataframe thead th {\n",
       "        text-align: right;\n",
       "    }\n",
       "</style>\n",
       "<table border=\"1\" class=\"dataframe\">\n",
       "  <thead>\n",
       "    <tr style=\"text-align: right;\">\n",
       "      <th></th>\n",
       "      <th>UniqueID</th>\n",
       "      <th>fundamental_advice</th>\n",
       "      <th>fund_advice_nrscore</th>\n",
       "      <th>uncle_stock_score</th>\n",
       "      <th>growth_score</th>\n",
       "      <th>value_score</th>\n",
       "      <th>greenblatt_score</th>\n",
       "      <th>piotroski_score</th>\n",
       "      <th>levermann_score</th>\n",
       "      <th>predictability_score</th>\n",
       "      <th>price_iv_buffett</th>\n",
       "      <th>iv_price_buf</th>\n",
       "      <th>rev_price</th>\n",
       "      <th>PL12M</th>\n",
       "      <th>PL_Predict</th>\n",
       "    </tr>\n",
       "  </thead>\n",
       "  <tbody>\n",
       "    <tr>\n",
       "      <th>0</th>\n",
       "      <td>31.0</td>\n",
       "      <td>4.0</td>\n",
       "      <td>4.0</td>\n",
       "      <td>0.70</td>\n",
       "      <td>0.65</td>\n",
       "      <td>0.63</td>\n",
       "      <td>0.40</td>\n",
       "      <td>3.42</td>\n",
       "      <td>6.57</td>\n",
       "      <td>0.39</td>\n",
       "      <td>0.260</td>\n",
       "      <td>0.260</td>\n",
       "      <td>0.6966</td>\n",
       "      <td>0.284300</td>\n",
       "      <td>0.434441</td>\n",
       "    </tr>\n",
       "    <tr>\n",
       "      <th>1</th>\n",
       "      <td>207.0</td>\n",
       "      <td>5.0</td>\n",
       "      <td>5.0</td>\n",
       "      <td>0.81</td>\n",
       "      <td>0.71</td>\n",
       "      <td>0.65</td>\n",
       "      <td>0.74</td>\n",
       "      <td>6.48</td>\n",
       "      <td>8.72</td>\n",
       "      <td>0.66</td>\n",
       "      <td>0.030</td>\n",
       "      <td>0.030</td>\n",
       "      <td>1.0500</td>\n",
       "      <td>1.032000</td>\n",
       "      <td>0.335922</td>\n",
       "    </tr>\n",
       "    <tr>\n",
       "      <th>2</th>\n",
       "      <td>105.0</td>\n",
       "      <td>5.0</td>\n",
       "      <td>5.0</td>\n",
       "      <td>0.76</td>\n",
       "      <td>0.70</td>\n",
       "      <td>0.66</td>\n",
       "      <td>0.94</td>\n",
       "      <td>7.57</td>\n",
       "      <td>8.89</td>\n",
       "      <td>0.27</td>\n",
       "      <td>0.960</td>\n",
       "      <td>0.960</td>\n",
       "      <td>0.3475</td>\n",
       "      <td>-0.129500</td>\n",
       "      <td>0.645948</td>\n",
       "    </tr>\n",
       "    <tr>\n",
       "      <th>3</th>\n",
       "      <td>208.0</td>\n",
       "      <td>4.0</td>\n",
       "      <td>4.0</td>\n",
       "      <td>0.83</td>\n",
       "      <td>0.67</td>\n",
       "      <td>0.75</td>\n",
       "      <td>1.10</td>\n",
       "      <td>3.47</td>\n",
       "      <td>-1.58</td>\n",
       "      <td>0.29</td>\n",
       "      <td>0.081</td>\n",
       "      <td>0.081</td>\n",
       "      <td>1.0500</td>\n",
       "      <td>0.020400</td>\n",
       "      <td>0.082585</td>\n",
       "    </tr>\n",
       "    <tr>\n",
       "      <th>4</th>\n",
       "      <td>407.0</td>\n",
       "      <td>1.0</td>\n",
       "      <td>4.0</td>\n",
       "      <td>0.66</td>\n",
       "      <td>0.55</td>\n",
       "      <td>0.57</td>\n",
       "      <td>-0.05</td>\n",
       "      <td>9.55</td>\n",
       "      <td>4.68</td>\n",
       "      <td>0.43</td>\n",
       "      <td>1.920</td>\n",
       "      <td>1.920</td>\n",
       "      <td>6.2800</td>\n",
       "      <td>-0.442539</td>\n",
       "      <td>-0.232114</td>\n",
       "    </tr>\n",
       "  </tbody>\n",
       "</table>\n",
       "</div>"
      ],
      "text/plain": [
       "   UniqueID  fundamental_advice  fund_advice_nrscore  uncle_stock_score  \\\n",
       "0      31.0                 4.0                  4.0               0.70   \n",
       "1     207.0                 5.0                  5.0               0.81   \n",
       "2     105.0                 5.0                  5.0               0.76   \n",
       "3     208.0                 4.0                  4.0               0.83   \n",
       "4     407.0                 1.0                  4.0               0.66   \n",
       "\n",
       "   growth_score  value_score  greenblatt_score  piotroski_score  \\\n",
       "0          0.65         0.63              0.40             3.42   \n",
       "1          0.71         0.65              0.74             6.48   \n",
       "2          0.70         0.66              0.94             7.57   \n",
       "3          0.67         0.75              1.10             3.47   \n",
       "4          0.55         0.57             -0.05             9.55   \n",
       "\n",
       "   levermann_score  predictability_score  price_iv_buffett  iv_price_buf  \\\n",
       "0             6.57                  0.39             0.260         0.260   \n",
       "1             8.72                  0.66             0.030         0.030   \n",
       "2             8.89                  0.27             0.960         0.960   \n",
       "3            -1.58                  0.29             0.081         0.081   \n",
       "4             4.68                  0.43             1.920         1.920   \n",
       "\n",
       "   rev_price     PL12M  PL_Predict  \n",
       "0     0.6966  0.284300    0.434441  \n",
       "1     1.0500  1.032000    0.335922  \n",
       "2     0.3475 -0.129500    0.645948  \n",
       "3     1.0500  0.020400    0.082585  \n",
       "4     6.2800 -0.442539   -0.232114  "
      ]
     },
     "execution_count": 22,
     "metadata": {},
     "output_type": "execute_result"
    }
   ],
   "source": [
    "# before concatenating both structures, make sure they align to avoid NaN, see\n",
    "# https://stackoverflow.com/questions/40339886/pandas-concat-generates-nan-values\n",
    "predictions_pd.reset_index(drop=True, inplace=True)\n",
    "test_set.reset_index(drop=True, inplace=True)\n",
    "\n",
    "result_pd = pd.concat([test_set,predictions_pd],axis=1)\n",
    "result_pd.head()"
   ]
  },
  {
   "cell_type": "code",
   "execution_count": 23,
   "id": "worthy-employment",
   "metadata": {
    "hidden": true
   },
   "outputs": [],
   "source": [
    "result_sorted_pd = result_pd.sort_values(by=['PL_Predict'], ascending=False)"
   ]
  },
  {
   "cell_type": "code",
   "execution_count": 24,
   "id": "welcome-washington",
   "metadata": {
    "hidden": true
   },
   "outputs": [
    {
     "data": {
      "text/plain": [
       "(0.16036446, 0.1872954408142857)"
      ]
     },
     "execution_count": 24,
     "metadata": {},
     "output_type": "execute_result"
    }
   ],
   "source": [
    "# average returns of the predictions and of the original returns\n",
    "result_sorted_pd[\"PL_Predict\"].mean(axis=0),result_sorted_pd[\"PL12M\"].mean(axis=0)"
   ]
  },
  {
   "cell_type": "code",
   "execution_count": 25,
   "id": "invalid-nebraska",
   "metadata": {
    "hidden": true
   },
   "outputs": [
    {
     "data": {
      "text/plain": [
       "0.35922"
      ]
     },
     "execution_count": 25,
     "metadata": {},
     "output_type": "execute_result"
    }
   ],
   "source": [
    "# average REAL return of the top N best PREDICTED stock picks\n",
    "\n",
    "N = 30\n",
    "result_sorted_pd.iloc[:N, result_sorted_pd.columns.get_loc('PL12M')].mean()"
   ]
  },
  {
   "cell_type": "code",
   "execution_count": null,
   "id": "tribal-blogger",
   "metadata": {
    "hidden": true
   },
   "outputs": [],
   "source": []
  },
  {
   "cell_type": "code",
   "execution_count": null,
   "id": "aerial-camcorder",
   "metadata": {
    "hidden": true
   },
   "outputs": [],
   "source": []
  }
 ],
 "metadata": {
  "kernelspec": {
   "display_name": "Python 3",
   "language": "python",
   "name": "python3"
  },
  "language_info": {
   "codemirror_mode": {
    "name": "ipython",
    "version": 3
   },
   "file_extension": ".py",
   "mimetype": "text/x-python",
   "name": "python",
   "nbconvert_exporter": "python",
   "pygments_lexer": "ipython3",
   "version": "3.8.7"
  }
 },
 "nbformat": 4,
 "nbformat_minor": 5
}
